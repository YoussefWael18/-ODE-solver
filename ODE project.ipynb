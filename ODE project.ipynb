{
 "cells": [
  {
   "cell_type": "code",
   "execution_count": 1,
   "metadata": {},
   "outputs": [
    {
     "name": "stdout",
     "output_type": "stream",
     "text": [
      "Derivative of Y by X:\n"
     ]
    },
    {
     "data": {
      "text/latex": [
       "$\\displaystyle \\frac{d}{d x} y{\\left(x \\right)}$"
      ],
      "text/plain": [
       "d       \n",
       "──(y(x))\n",
       "dx      "
      ]
     },
     "metadata": {},
     "output_type": "display_data"
    },
    {
     "name": "stdout",
     "output_type": "stream",
     "text": [
      "**************\n",
      "first order Diffrential Equation:\n"
     ]
    },
    {
     "data": {
      "text/latex": [
       "$\\displaystyle y{\\left(x \\right)} + \\frac{d}{d x} y{\\left(x \\right)} = x y{\\left(x \\right)}$"
      ],
      "text/plain": [
       "       d                \n",
       "y(x) + ──(y(x)) = x⋅y(x)\n",
       "       dx               "
      ]
     },
     "metadata": {},
     "output_type": "display_data"
    },
    {
     "name": "stdout",
     "output_type": "stream",
     "text": [
      "solution of of the  first order Diffrential Equation :\n"
     ]
    },
    {
     "data": {
      "text/latex": [
       "$\\displaystyle y{\\left(x \\right)} = C_{1} e^{x \\left(\\frac{x}{2} - 1\\right)}$"
      ],
      "text/plain": [
       "             ⎛x    ⎞\n",
       "           x⋅⎜─ - 1⎟\n",
       "             ⎝2    ⎠\n",
       "y(x) = C₁⋅ℯ         "
      ]
     },
     "metadata": {},
     "output_type": "display_data"
    },
    {
     "name": "stdout",
     "output_type": "stream",
     "text": [
      "**************\n",
      " first order Diffrential Equation:\n"
     ]
    },
    {
     "data": {
      "text/latex": [
       "$\\displaystyle 2 y{\\left(x \\right)} + \\frac{d}{d x} y{\\left(x \\right)} = 3 x$"
      ],
      "text/plain": [
       "         d             \n",
       "2⋅y(x) + ──(y(x)) = 3⋅x\n",
       "         dx            "
      ]
     },
     "metadata": {},
     "output_type": "display_data"
    },
    {
     "name": "stdout",
     "output_type": "stream",
     "text": [
      "solution of of the first order Diffrential Equation :\n"
     ]
    },
    {
     "data": {
      "text/latex": [
       "$\\displaystyle y{\\left(x \\right)} = C_{1} e^{- 2 x} + \\frac{3 x}{2} - \\frac{3}{4}$"
      ],
      "text/plain": [
       "           -2⋅x   3⋅x   3\n",
       "y(x) = C₁⋅ℯ     + ─── - ─\n",
       "                   2    4"
      ]
     },
     "metadata": {},
     "output_type": "display_data"
    },
    {
     "name": "stdout",
     "output_type": "stream",
     "text": [
      "**************\n",
      " second order homogoneous Diffrential Equation:\n"
     ]
    },
    {
     "data": {
      "text/latex": [
       "$\\displaystyle 2 y{\\left(x \\right)} + 3 \\frac{d}{d x} y{\\left(x \\right)} + \\frac{d^{2}}{d x^{2}} y{\\left(x \\right)} = 0$"
      ],
      "text/plain": [
       "                       2           \n",
       "           d          d            \n",
       "2⋅y(x) + 3⋅──(y(x)) + ───(y(x)) = 0\n",
       "           dx           2          \n",
       "                      dx           "
      ]
     },
     "metadata": {},
     "output_type": "display_data"
    },
    {
     "name": "stdout",
     "output_type": "stream",
     "text": [
      "solution of  second order homogoneous Diffrential Equation :\n"
     ]
    },
    {
     "data": {
      "text/latex": [
       "$\\displaystyle y{\\left(x \\right)} = \\left(C_{1} + C_{2} e^{- x}\\right) e^{- x}$"
      ],
      "text/plain": [
       "       ⎛         -x⎞  -x\n",
       "y(x) = ⎝C₁ + C₂⋅ℯ  ⎠⋅ℯ  "
      ]
     },
     "metadata": {},
     "output_type": "display_data"
    },
    {
     "name": "stdout",
     "output_type": "stream",
     "text": [
      "**************\n",
      " second order non-homogoneous Diffrential Equation:\n"
     ]
    },
    {
     "data": {
      "text/latex": [
       "$\\displaystyle 2 y{\\left(x \\right)} + 3 \\frac{d}{d x} y{\\left(x \\right)} + \\frac{d^{2}}{d x^{2}} y{\\left(x \\right)} = \\sin{\\left(x \\right)}$"
      ],
      "text/plain": [
       "                       2                \n",
       "           d          d                 \n",
       "2⋅y(x) + 3⋅──(y(x)) + ───(y(x)) = sin(x)\n",
       "           dx           2               \n",
       "                      dx                "
      ]
     },
     "metadata": {},
     "output_type": "display_data"
    },
    {
     "name": "stdout",
     "output_type": "stream",
     "text": [
      "solution of  second order non-homogoneous Diffrential Equation :\n"
     ]
    },
    {
     "data": {
      "text/latex": [
       "$\\displaystyle y{\\left(x \\right)} = C_{1} e^{- 2 x} + C_{2} e^{- x} + \\frac{\\sin{\\left(x \\right)}}{10} - \\frac{3 \\cos{\\left(x \\right)}}{10}$"
      ],
      "text/plain": [
       "           -2⋅x       -x   sin(x)   3⋅cos(x)\n",
       "y(x) = C₁⋅ℯ     + C₂⋅ℯ   + ────── - ────────\n",
       "                             10        10   "
      ]
     },
     "metadata": {},
     "output_type": "display_data"
    }
   ],
   "source": [
    "from sympy.interactive import printing \n",
    "printing.init_printing(use_latex=True)\n",
    "from sympy import *\n",
    "import sympy as sp \n",
    "\n",
    "x = sp.symbols('x')\n",
    "y = sp.symbols('y', real=True)  # Define y as a constant symbol\n",
    "yF = sp.Function('y')(x)  # Define yF as a function of x\n",
    "dfdx = yF.diff(x)  # Derivative of yF\n",
    "print(\"Derivative of Y by X:\")\n",
    "display(dfdx)\n",
    "print(\"**************\")\n",
    "# Define the differential equation 1\n",
    "equation1 = Eq(dfdx + yF, x * yF)  # Differential equation\n",
    "print(\"first order Diffrential Equation:\")\n",
    "display(equation1)# Display the equation\n",
    "solution = dsolve(equation1, yF)# Solve the equation\n",
    "print(\"solution of of the  first order Diffrential Equation :\")\n",
    "display(solution)\n",
    "print(\"**************\")\n",
    "\n",
    "# Define the differential equation 2\n",
    "print(\" first order Diffrential Equation:\")\n",
    "equation2 = Eq(diff(yF, x) + 2*yF, 3*x)\n",
    "display(equation2)\n",
    "solution2 = dsolve(equation2, yF) # Solve the equation 2\n",
    "print(\"solution of of the first order Diffrential Equation :\")\n",
    "display(solution2)\n",
    "print(\"**************\")\n",
    "\n",
    "# Define the differential equation 3\n",
    "print(\" second order homogoneous Diffrential Equation:\")\n",
    "equation3 = Eq(yF.diff(x, 2) + 3*dfdx + 2*yF, 0)\n",
    "display(equation3)\n",
    "solution3 = dsolve(equation3, yF) # Solve the equation3\n",
    "print(\"solution of  second order homogoneous Diffrential Equation :\")\n",
    "display(solution3) \n",
    "print(\"**************\")\n",
    "\n",
    "# Define the differential equation 4\n",
    "print(\" second order non-homogoneous Diffrential Equation:\")\n",
    "equation4 = Eq(yF.diff(x, 2) + 3*dfdx + 2*yF,sin(x))\n",
    "display(equation4)\n",
    "print(\"solution of  second order non-homogoneous Diffrential Equation :\")\n",
    "solution4 = dsolve(equation4, yF)# Solve the equation 4\n",
    "display(solution4)\n"
   ]
  }
 ],
 "metadata": {
  "kernelspec": {
   "display_name": "Python 3",
   "language": "python",
   "name": "python3"
  },
  "language_info": {
   "codemirror_mode": {
    "name": "ipython",
    "version": 3
   },
   "file_extension": ".py",
   "mimetype": "text/x-python",
   "name": "python",
   "nbconvert_exporter": "python",
   "pygments_lexer": "ipython3",
   "version": "3.11.9"
  }
 },
 "nbformat": 4,
 "nbformat_minor": 2
}
